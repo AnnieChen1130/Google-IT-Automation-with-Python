{
  "metadata": {
    "language_info": {
      "codemirror_mode": {
        "name": "python",
        "version": 3
      },
      "file_extension": ".py",
      "mimetype": "text/x-python",
      "name": "python",
      "nbconvert_exporter": "python",
      "pygments_lexer": "ipython3",
      "version": "3.8"
    },
    "kernelspec": {
      "name": "python",
      "display_name": "Python (Pyodide)",
      "language": "python"
    }
  },
  "nbformat_minor": 4,
  "nbformat": 4,
  "cells": [
    {
      "cell_type": "markdown",
      "source": "Introduction\nFor this lab, imagine you are an IT Specialist at a medium-sized company. The Human Resources Department at your company wants you to find out how many people are in each department. You need to write a Python script that reads a CSV file containing a list of the employees in the organization, counts how many people are in each department, and then generates a report using this information. The output of this script will be a plain text file. We will guide you through each step of the lab.",
      "metadata": {}
    },
    {
      "cell_type": "code",
      "source": "import csv",
      "metadata": {
        "trusted": true
      },
      "execution_count": 1,
      "outputs": []
    },
    {
      "cell_type": "markdown",
      "source": "Open the CSV file by calling open and then csv.DictReader.\n\nDictReader creates an object that operates like a regular reader (an object that iterates over lines in the given CSV file), but also maps the information it reads into a dictionary where keys are given by the optional fieldnames parameter. If we omit the fieldnames parameter, the values in the first row of the CSV file will be used as the keys. So, in this case, the first line of the CSV file has the keys and so there's no need to pass fieldnames as a parameter.\n\nWe also need to pass a dialect as a parameter to this function. There isn't a well-defined standard for comma-separated value files, so the parser needs to be flexible. Flexibility here means that there are many parameters to control how csv parses or writes data. Rather than passing each of these parameters to the reader and writer separately, we group them together conveniently into a dialect object.\n\nDialect classes can be registered by name so that callers of the CSV module don't need to know the parameter settings in advance. We will now register a dialect empDialect.\n\nThe main purpose of this dialect is to remove any leading spaces while parsing the CSV file.\n\n------------\nYou now need to iterate over the CSV file that you opened, i.e., employee_file. When you iterate over a CSV file, each iteration of the loop produces a dictionary from strings (key) to strings (value).\n\nAppend the dictionaries to an empty initialised list employee_list as you iterate over the CSV file.",
      "metadata": {}
    },
    {
      "cell_type": "code",
      "source": "def read_employees(csv_file_location):\n  #parsing CSV file\n  csv.register_dialect('empDialect', skipinitialspace=True, strict=True)\n  employee_file = csv.DictReader(open(csv_file_location), dialect = 'empDialect')\n  \n  #array list to hold dictionary data\n  employee_list = []\n  for data in employee_file:\n    employee_list.append(data)\n  return employee_list",
      "metadata": {
        "trusted": true
      },
      "execution_count": 2,
      "outputs": []
    },
    {
      "cell_type": "markdown",
      "source": "Check read from CSV and store data",
      "metadata": {}
    },
    {
      "cell_type": "code",
      "source": "employee_list = read_employees('employees.csv')\n#print(employee_list)",
      "metadata": {},
      "execution_count": null,
      "outputs": []
    },
    {
      "cell_type": "markdown",
      "source": "The second function process_data() should now receive the list of dictionaries, i.e., employee_list as a parameter and return a dictionary of department:amount.\n\nThis function needs to pass the employee_list, received from the previous section, as a parameter to the function.\n\n-----------------\nNow, initialize a new list called department_list, iterate over employee_list, and add only the departments into the department_list.\n\nThe department_list should now have a redundant list of all the department names. We now have to remove the redundancy and return a dictionary. We will return this dicationary in the format department:amount, where amount is the number of employees in that particular department.\n\n--------------\nThis uses the set() method, which converts iterable elements to distinct elements.\n",
      "metadata": {}
    },
    {
      "cell_type": "code",
      "source": "def process_data(employee_list):\n  department_list = []\n\n  #Get List of Department from employee list, department may have duplicate\n  for employee_data in employee_list:\n    department_list.append(employee_data['Department'])\n  print(\"------department_list------------\") \n  print(department_list)  \n\n  #uses the set() method, which converts iterable elements to distinct elements.\n  #Count num of department in Department list\n  #department_data is a dictionary(key-value)   \n  department_data = {}\n  for department_name in set(department_list):\n    department_data[department_name] = department_list.count(department_name)\n  return department_data",
      "metadata": {},
      "execution_count": null,
      "outputs": []
    },
    {
      "cell_type": "markdown",
      "source": "Check list of employee in department ",
      "metadata": {}
    },
    {
      "cell_type": "code",
      "source": "dictionary = process_data(employee_list)\nprint(dictionary)",
      "metadata": {},
      "execution_count": null,
      "outputs": []
    },
    {
      "cell_type": "markdown",
      "source": "Next, we will write the function write_report. This function writes a dictionary of department: amount to a file.\n\nThe report should have the format:\n\n<department1>: <amount1>\n\n<department2>: <amount2>\n    \nThis function requires a dictionary, from the previous section, and report_file, an output file to generate report, to both be passed as parameters.\n\nYou will use the open() function to open a file and return a corresponding file object. This function requires file path and file mode to be passed as parameters. The file mode is 'r' (reading) by default, so you should now explicitly pass 'w+' mode (open for reading and writing, overwriting a file) as a parameter.\n\nOnce you open the file for writing, iterate through the dictionary and use write() on the file to store the data.    ",
      "metadata": {}
    },
    {
      "cell_type": "code",
      "source": "def write_report(dictionary, report_file):\n  with open(report_file, \"w+\") as f:\n    for k in sorted(dictionary):\n      f.write(str(k)+':'+str(dictionary[k])+'\\n')\n    f.close()\n",
      "metadata": {},
      "execution_count": null,
      "outputs": []
    },
    {
      "cell_type": "markdown",
      "source": "Now call the function write_report() by passing a dictionary variable from the previous section and also passing a report_file.",
      "metadata": {}
    },
    {
      "cell_type": "code",
      "source": "write_report(dictionary, 'test_report.txt')",
      "metadata": {},
      "execution_count": null,
      "outputs": []
    },
    {
      "cell_type": "code",
      "source": "",
      "metadata": {},
      "execution_count": null,
      "outputs": []
    }
  ]
}